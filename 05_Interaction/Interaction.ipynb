{
 "cells": [
  {
   "cell_type": "markdown",
   "metadata": {},
   "source": [
    "# Tidbits for interaction"
   ]
  },
  {
   "cell_type": "code",
   "execution_count": null,
   "metadata": {},
   "outputs": [],
   "source": [
    "import os\n",
    "from ipywidgets import interact, widgets"
   ]
  },
  {
   "cell_type": "markdown",
   "metadata": {},
   "source": [
    "## Text input"
   ]
  },
  {
   "cell_type": "code",
   "execution_count": null,
   "metadata": {
    "scrolled": true
   },
   "outputs": [],
   "source": [
    "text = widgets.Text()\n",
    "display(text)\n",
    "\n",
    "def handle_submit(sender):\n",
    "    print(text.value)\n",
    "    \n",
    "text.on_submit(handle_submit)"
   ]
  },
  {
   "cell_type": "markdown",
   "metadata": {},
   "source": [
    "## Display HTML/SVG"
   ]
  },
  {
   "cell_type": "code",
   "execution_count": null,
   "metadata": {},
   "outputs": [],
   "source": [
    "# Imports\n",
    "\n",
    "from IPython.display import HTML, display\n",
    "from IPython.html.widgets.interaction import interact\n",
    "from ipywidgets import interact, widgets\n",
    "\n",
    "# Constants\n",
    "\n",
    "GRAPHIC_WIDTH  = 400\n",
    "GRAPHIC_HEIGHT = 300\n",
    "STROKE_COLOR   = 'black'\n",
    "STROKE_WIDTH   = 0\n",
    "FILL_COLOR     = 'blue'\n",
    "COLORS         = ('red', 'orange', 'yellow', 'green', 'purple', 'blue', 'black', 'white')\n",
    "\n",
    "machineIsRight = False\n",
    "\n",
    "# Run interactive loop\n",
    "if (machineIsRight):\n",
    "    html = '<svg height=\"100\" width=\"100\"><rect x=\"25\" y=\"25\" width=\"50\" height=\"50\" stroke=\"green\" stroke-width=\"3\" fill=\"green\" /></svg>'\n",
    "else:\n",
    "     html = '<svg height=\"200\" width=\"200\"><polygon points=\"50,5   100,5  125,30  125,80 100,105 50,105  25,80  25, 30\" style=\"stroke:#660000; fill:#cc3333; stroke-width: 3;\"/>'\n",
    "\n",
    "   \n",
    "\n",
    "display(HTML(html))"
   ]
  },
  {
   "cell_type": "markdown",
   "metadata": {},
   "source": [
    "## Display html/SVG conditional "
   ]
  },
  {
   "cell_type": "code",
   "execution_count": null,
   "metadata": {},
   "outputs": [],
   "source": [
    "from __future__ import print_function\n",
    "from ipywidgets import interact, interactive, fixed, interact_manual\n",
    "import ipywidgets as widgets\n",
    "\n",
    "def f(x):\n",
    "    if (x):\n",
    "        html = '<svg height=\"150\" width=\"150\"><rect x=\"5\" y=\"5\" width=\"100\" height=\"100\" stroke=\"green\" stroke-width=\"3\" fill=\"green\" /></svg>'\n",
    "    else:\n",
    "         html = '<svg height=\"150\" width=\"150\"><polygon points=\"50,5   100,5  125,30  125,80 100,105 50,105  25,80  25, 30\" style=\"stroke:#660000; fill:#cc3333; stroke-width: 3;\"/>'\n",
    "    display(HTML(html))\n",
    "    #return x\n",
    "\n",
    "interact (f, x=False)\n",
    "\n",
    "#interact (machineIsRight, x=widgets.Checkbox())\n",
    "#display(x)"
   ]
  },
  {
   "cell_type": "code",
   "execution_count": null,
   "metadata": {},
   "outputs": [],
   "source": [
    "# Imports\n",
    "\n",
    "from IPython.display import HTML, display\n",
    "from IPython.html.widgets.interaction import interact\n",
    "from ipywidgets import interact, widgets\n",
    "\n",
    "\n",
    "interact (f, x=False)\n",
    "#todo, make the words turn into cat or dog\n",
    "# Run interactive loop\n",
    "html = '<svg height=\"100\" width=\"100\"><rect x=\"25\" y=\"25\" width=\"50\" height=\"50\" stroke=\"orange\" stroke-width=\"3\" fill=\"blue\" /></svg>'\n",
    "\n",
    "\n",
    "html2 = '<svg viewBox=\"0 0 240 80\" xmlns=\"http://www.w3.org/2000/svg\"><style>.small { font: italic 13px sans-serif; }.heavy { font: bold 30px sans-serif; } .Rrrrr { font: italic 40px serif; fill: red; }</style><text x=\"20\" y=\"35\" class=\"small\">I think that</text>is a<text x=\"40\" y=\"35\" class=\"heavy\"></text><text x=\"55\" y=\"55\" class=\"small\">is a</text><text x=\"65\" y=\"55\" class=\"Rrrrr\">cat!</text></svg>'\n",
    "display(HTML(html2))"
   ]
  },
  {
   "cell_type": "markdown",
   "metadata": {},
   "source": [
    "## Play audio file"
   ]
  },
  {
   "cell_type": "code",
   "execution_count": null,
   "metadata": {},
   "outputs": [],
   "source": [
    "import IPython.display as ipd\n",
    "ipd.Audio('OptionA.wav') # load a local WAV file"
   ]
  },
  {
   "cell_type": "markdown",
   "metadata": {},
   "source": [
    "## Display image "
   ]
  },
  {
   "cell_type": "code",
   "execution_count": null,
   "metadata": {},
   "outputs": [],
   "source": [
    "from IPython.display import Image\n",
    "display(Image(filename='trashbarrel.png') )\n"
   ]
  },
  {
   "cell_type": "markdown",
   "metadata": {},
   "source": [
    "This does work! from https://hub.gke.mybinder.org/user/bloomberg-bqplot-nmc96afc/notebooks/examples/Index.ipynb"
   ]
  },
  {
   "cell_type": "markdown",
   "metadata": {},
   "source": [
    "## Play Youtube Video"
   ]
  },
  {
   "cell_type": "code",
   "execution_count": null,
   "metadata": {
    "scrolled": true
   },
   "outputs": [],
   "source": [
    "from IPython.display import YouTubeVideo\n",
    "YouTubeVideo('8N_tupPBtWQ')"
   ]
  },
  {
   "cell_type": "markdown",
   "metadata": {},
   "source": [
    "## Text to Speech on MacOS"
   ]
  },
  {
   "cell_type": "code",
   "execution_count": null,
   "metadata": {
    "scrolled": true
   },
   "outputs": [],
   "source": [
    "# This works on Mac OS X\n",
    "import os \n",
    "  \n",
    "#mytext=\"guhsundhighd\"\n",
    "mytext=\"gazuntite\"\n",
    "  \n",
    "# Playing the converted file \n",
    "os.system(\"say \"+ mytext) "
   ]
  },
  {
   "cell_type": "markdown",
   "metadata": {},
   "source": [
    "## Preview images "
   ]
  },
  {
   "cell_type": "code",
   "execution_count": null,
   "metadata": {
    "scrolled": true
   },
   "outputs": [],
   "source": [
    "fdir = 'emojis/'\n",
    "\n",
    "@interact\n",
    "def show_images(file=os.listdir(fdir)):\n",
    "    display(Image(fdir+file))"
   ]
  },
  {
   "cell_type": "markdown",
   "metadata": {},
   "source": [
    "Automatic email sending using python:https://medium.com/@bakiiii/automatic-e-mail-sending-with-python-eb41855119e1\n",
    "        "
   ]
  },
  {
   "cell_type": "markdown",
   "metadata": {},
   "source": [
    "## Add Midi"
   ]
  },
  {
   "cell_type": "code",
   "execution_count": null,
   "metadata": {},
   "outputs": [],
   "source": []
  }
 ],
 "metadata": {
  "kernelspec": {
   "display_name": "Python 3",
   "language": "python",
   "name": "python3"
  },
  "language_info": {
   "codemirror_mode": {
    "name": "ipython",
    "version": 3
   },
   "file_extension": ".py",
   "mimetype": "text/x-python",
   "name": "python",
   "nbconvert_exporter": "python",
   "pygments_lexer": "ipython3",
   "version": "3.7.3"
  }
 },
 "nbformat": 4,
 "nbformat_minor": 2
}
