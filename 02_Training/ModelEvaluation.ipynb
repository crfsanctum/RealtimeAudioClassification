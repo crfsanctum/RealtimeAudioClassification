{
 "cells": [
  {
   "cell_type": "markdown",
   "metadata": {},
   "source": [
    "## Load libraries"
   ]
  },
  {
   "cell_type": "code",
   "execution_count": 14,
   "metadata": {},
   "outputs": [],
   "source": [
    "%matplotlib inline\n",
    "%config InlineBackend.figure_format = 'retina'\n",
    "\n",
    "import matplotlib.pyplot as plt\n",
    "\n",
    "import numpy as np\n",
    "import torch\n",
    "from torch import nn\n",
    "from torch import optim\n",
    "import torch.nn as nn\n",
    "import torch.nn.functional as F\n",
    "import torchvision\n",
    "import os\n",
    "from sklearn.metrics import confusion_matrix"
   ]
  },
  {
   "cell_type": "code",
   "execution_count": 32,
   "metadata": {},
   "outputs": [],
   "source": [
    "def load_model_and_test_data(ModelPath, train_images_folder):\n",
    "    device = torch.device(\"cuda\" if torch.cuda.is_available() else \"cpu\")\n",
    "    ModelData = torch.load(ModelPath,map_location='cpu')\n",
    "    Input_Resolution = ModelData['resolution']\n",
    "    SpectrumVariables = ModelData['SpectrumVariables']\n",
    "    classes = ModelData['classes']\n",
    "    model = torchvision.models.resnet18()\n",
    "    model.fc = nn.Linear(512, len(classes))\n",
    "    model.load_state_dict (ModelData['model'])\n",
    "    model.cpu()\n",
    "    model.eval()\n",
    "    \n",
    "    transform = torchvision.transforms.Compose([\n",
    "        torchvision.transforms.Resize(Input_Resolution),\n",
    "        torchvision.transforms.ToTensor(),\n",
    "        torchvision.transforms.Normalize((0.5, 0.5, 0.5), (0.5, 0.5, 0.5))\n",
    "    ])\n",
    "\n",
    "    full_dataset = torchvision.datasets.ImageFolder(root=train_images_folder, transform=transform)\n",
    "    full_DataLoader = torch.utils.data.DataLoader(full_dataset, batch_size=4, shuffle=True, num_workers=2)\n",
    "    train_size = int(0.8 * len(full_dataset))\n",
    "    test_size = len(full_dataset) - train_size\n",
    "    torch.manual_seed(0)\n",
    "    trainset, testset = torch.utils.data.random_split(full_dataset, [train_size, test_size])\n",
    "    testloader = torch.utils.data.DataLoader(testset, batch_size=16, shuffle=False, num_workers=2)\n",
    "    \n",
    "    return model, testloader, classes\n",
    "\n",
    "def create_confusion_matrix(model, testloader, classes):\n",
    "    # Network analytics\n",
    "    class_correct = list(0. for i in range(len(classes)))\n",
    "    class_total = list(0. for i in range(len(classes)))\n",
    "    model.eval()\n",
    "    allLabels=[]\n",
    "    allPrediction=[]\n",
    "    with torch.no_grad():\n",
    "        for data in testloader:\n",
    "            images, labels = data\n",
    "            images, labels = images.to(device), labels.to(device)\n",
    "            outputs = model(images)\n",
    "            _, predicted = torch.max(outputs, 1)\n",
    "            c = (predicted == labels).squeeze()\n",
    "            if (c.dim()==0):\n",
    "                continue\n",
    "            for i in range(testloader.batch_size):\n",
    "                if(len(labels)<=i):\n",
    "                    continue;\n",
    "                label = labels[i]\n",
    "                allLabels.append(labels[i].to('cpu').numpy())\n",
    "                allPrediction.append(predicted[i].to('cpu').numpy())\n",
    "                #print (c.shape)\n",
    "                if(testloader.batch_size>1):\n",
    "\n",
    "                    class_correct[label] += c[i].item()\n",
    "                else:\n",
    "                    class_correct[label] += c.item()\n",
    "                class_total[label] += 1\n",
    "\n",
    "    print(confusion_matrix(allLabels, allPrediction))\n",
    "    for i in range(len(classes)):\n",
    "        print('Accuracy of %5s : %2d %%' % (\n",
    "            classes[i], 100 * class_correct[i] / class_total[i]))"
   ]
  },
  {
   "cell_type": "markdown",
   "metadata": {},
   "source": [
    "Show spectagrams, Predicted and Actual labels."
   ]
  },
  {
   "cell_type": "code",
   "execution_count": 22,
   "metadata": {
    "scrolled": false
   },
   "outputs": [],
   "source": [
    "# def imshow(img):\n",
    "#     img = img / 2 + 0.5     # unnormalize\n",
    "#     npimg = img.numpy()\n",
    "#     plt.imshow(np.transpose(npimg, (1, 2, 0)))\n",
    "#     plt.show()\n",
    "\n",
    "# # Print predicted and acual labels for Spectragrams\n",
    "# dataiter = iter(testloader)\n",
    "# model.eval()\n",
    "# for j in range (2):\n",
    "#     images, labels = dataiter.next()\n",
    "#     if device == 'cuda':\n",
    "#         images, labels = images.to(device), labels.to(device)\n",
    "#     outputs = model(images)\n",
    "#     _, predicted = torch.max(outputs, 1)\n",
    "\n",
    "#     for i in range(len(images)):\n",
    "#         imshow(images[i])\n",
    "#         print('GroundTruth: ',classes[labels[i]])\n",
    "#         print('Predicted: ',  classes[predicted[i]])\n"
   ]
  },
  {
   "cell_type": "markdown",
   "metadata": {},
   "source": [
    "Print accuracy of test predictions for each label"
   ]
  },
  {
   "cell_type": "code",
   "execution_count": 30,
   "metadata": {},
   "outputs": [],
   "source": []
  },
  {
   "cell_type": "code",
   "execution_count": 35,
   "metadata": {},
   "outputs": [],
   "source": [
    "orig_model, orig_test, classes = load_model_and_test_data(\n",
    "    '../models/CatDogResNet.pth', \n",
    "    '../GeneratedData/Cats-Vs-Dogs/'\n",
    ")\n",
    "effect_model, effect_test, classes = load_model_and_test_data(\n",
    "    '../models/CatDogResNetEffects.pth', \n",
    "    '../GeneratedData/Cats-Vs-Dogs_effects/'\n",
    ")"
   ]
  },
  {
   "cell_type": "code",
   "execution_count": 36,
   "metadata": {},
   "outputs": [
    {
     "name": "stdout",
     "output_type": "stream",
     "text": [
      "[[249  14]\n",
      " [  6 211]]\n",
      "Accuracy of  Cats : 94 %\n",
      "Accuracy of  Dogs : 97 %\n"
     ]
    }
   ],
   "source": [
    "create_confusion_matrix(orig_model, orig_test, classes)"
   ]
  },
  {
   "cell_type": "code",
   "execution_count": 37,
   "metadata": {},
   "outputs": [
    {
     "name": "stdout",
     "output_type": "stream",
     "text": [
      "[[792  29]\n",
      " [ 60 651]]\n",
      "Accuracy of  Cats : 96 %\n",
      "Accuracy of  Dogs : 91 %\n"
     ]
    }
   ],
   "source": [
    "create_confusion_matrix(effect_model, effect_test, classes)"
   ]
  },
  {
   "cell_type": "code",
   "execution_count": 38,
   "metadata": {},
   "outputs": [
    {
     "name": "stdout",
     "output_type": "stream",
     "text": [
      "[[744  77]\n",
      " [ 52 659]]\n",
      "Accuracy of  Cats : 90 %\n",
      "Accuracy of  Dogs : 92 %\n"
     ]
    }
   ],
   "source": [
    "create_confusion_matrix(orig_model, effect_test, classes)"
   ]
  },
  {
   "cell_type": "code",
   "execution_count": 39,
   "metadata": {},
   "outputs": [
    {
     "name": "stdout",
     "output_type": "stream",
     "text": [
      "[[260   3]\n",
      " [  8 209]]\n",
      "Accuracy of  Cats : 98 %\n",
      "Accuracy of  Dogs : 96 %\n"
     ]
    }
   ],
   "source": [
    "create_confusion_matrix(effect_model, orig_test, classes)"
   ]
  },
  {
   "cell_type": "code",
   "execution_count": null,
   "metadata": {},
   "outputs": [],
   "source": []
  }
 ],
 "metadata": {
  "kernelspec": {
   "display_name": "Python 3",
   "language": "python",
   "name": "python3"
  },
  "language_info": {
   "codemirror_mode": {
    "name": "ipython",
    "version": 3
   },
   "file_extension": ".py",
   "mimetype": "text/x-python",
   "name": "python",
   "nbconvert_exporter": "python",
   "pygments_lexer": "ipython3",
   "version": "3.7.3"
  }
 },
 "nbformat": 4,
 "nbformat_minor": 2
}
